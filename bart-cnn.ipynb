{
 "cells": [
  {
   "cell_type": "code",
   "execution_count": null,
   "metadata": {},
   "outputs": [],
   "source": [
    "from transformers import AutoTokenizer, TFAutoModelForSeq2SeqLM, pipeline\n",
    "\n",
    "tokenizer = AutoTokenizer.from_pretrained(\"facebook/bart-large-cnn\")\n",
    "model = TFAutoModelForSeq2SeqLM.from_pretrained(\"facebook/bart-large-cnn\")\n",
    "pipe = pipeline(\"summarization\", model=model, tokenizer=tokenizer)"
   ]
  },
  {
   "cell_type": "code",
   "execution_count": null,
   "metadata": {},
   "outputs": [],
   "source": [
    "from generators import get_cnn_dm_both_generator\n",
    "\n",
    "test_data_chunk = '001'\n",
    "test_data_path = f'./dataset/chunked/test_{test_data_chunk}.bin'\n",
    "test_data_gen = get_cnn_dm_both_generator(test_data_path)\n",
    "test_data = list(test_data_gen)"
   ]
  },
  {
   "cell_type": "code",
   "execution_count": null,
   "metadata": {},
   "outputs": [],
   "source": [
    "import json\n",
    "from generators import get_cnn_dm_both_generator\n",
    "\n",
    "output = []\n",
    "\n",
    "items = len(test_data)\n",
    "for i, (article, abstract) in enumerate(test_data):\n",
    "    try:\n",
    "        print(f'{i}/{items}')\n",
    "        summary = pipe(article, do_sample=False)\n",
    "        output.append({\n",
    "            'article': article,\n",
    "            'abstract': abstract,\n",
    "            'summary': summary[0]['summary_text']\n",
    "        })\n",
    "    except:\n",
    "        print(f'\\t ERROR')\n",
    "\n",
    "with open(f'bart_output_{test_data_chunk}.json', 'w') as fout:\n",
    "    json.dump(output, fout, indent=2)"
   ]
  }
 ],
 "metadata": {
  "kernelspec": {
   "display_name": "Python 3.10.4 ('env': venv)",
   "language": "python",
   "name": "python3"
  },
  "language_info": {
   "codemirror_mode": {
    "name": "ipython",
    "version": 3
   },
   "file_extension": ".py",
   "mimetype": "text/x-python",
   "name": "python",
   "nbconvert_exporter": "python",
   "pygments_lexer": "ipython3",
   "version": "3.10.4"
  },
  "orig_nbformat": 4,
  "vscode": {
   "interpreter": {
    "hash": "e4fe221a22f9802ae2a050549df6cbcd7264e25be7971b2914a087a6bea67c1c"
   }
  }
 },
 "nbformat": 4,
 "nbformat_minor": 2
}

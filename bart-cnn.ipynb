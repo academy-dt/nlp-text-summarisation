{
 "cells": [
  {
   "cell_type": "code",
   "execution_count": 2,
   "metadata": {},
   "outputs": [
    {
     "name": "stderr",
     "output_type": "stream",
     "text": [
      "/Users/danieltrugman/Documents/Education/NLP/Repository/env/lib/python3.10/site-packages/tqdm/auto.py:22: TqdmWarning: IProgress not found. Please update jupyter and ipywidgets. See https://ipywidgets.readthedocs.io/en/stable/user_install.html\n",
      "  from .autonotebook import tqdm as notebook_tqdm\n",
      "All model checkpoint layers were used when initializing TFBartForConditionalGeneration.\n",
      "\n",
      "All the layers of TFBartForConditionalGeneration were initialized from the model checkpoint at facebook/bart-large-cnn.\n",
      "If your task is similar to the task the model of the checkpoint was trained on, you can already use TFBartForConditionalGeneration for predictions without further training.\n"
     ]
    }
   ],
   "source": [
    "from transformers import AutoTokenizer, TFAutoModelForSeq2SeqLM, pipeline\n",
    "\n",
    "repo = \"facebook/bart-large-cnn\"\n",
    "tokenizer = AutoTokenizer.from_pretrained(repo)\n",
    "model = TFAutoModelForSeq2SeqLM.from_pretrained(repo)\n",
    "summarizer = pipeline(\"summarization\", model=model, tokenizer=tokenizer)"
   ]
  },
  {
   "cell_type": "code",
   "execution_count": 6,
   "metadata": {},
   "outputs": [],
   "source": [
    "def summarize(text, min_length=30, max_length=130):\n",
    "    return summarizer(text, min_length=min_length, max_length=max_length, do_sample=False)"
   ]
  },
  {
   "cell_type": "code",
   "execution_count": 9,
   "metadata": {},
   "outputs": [
    {
     "name": "stdout",
     "output_type": "stream",
     "text": [
      "Skipping text - len=7367!\n",
      "Summarizing text - len=3739:\n"
     ]
    },
    {
     "ename": "TypeError",
     "evalue": "list indices must be integers or slices, not str",
     "output_type": "error",
     "traceback": [
      "\u001b[0;31m---------------------------------------------------------------------------\u001b[0m",
      "\u001b[0;31mTypeError\u001b[0m                                 Traceback (most recent call last)",
      "\u001b[1;32m/Users/danieltrugman/Documents/Education/NLP/Repository/bart-cnn.ipynb Cell 3\u001b[0m in \u001b[0;36m<cell line: 7>\u001b[0;34m()\u001b[0m\n\u001b[1;32m     <a href='vscode-notebook-cell:/Users/danieltrugman/Documents/Education/NLP/Repository/bart-cnn.ipynb#ch0000002?line=13'>14</a>\u001b[0m     \u001b[39mprint\u001b[39m(\u001b[39mf\u001b[39m\u001b[39m'\u001b[39m\u001b[39mSummarizing text - len=\u001b[39m\u001b[39m{\u001b[39;00marticle_len\u001b[39m}\u001b[39;00m\u001b[39m:\u001b[39m\u001b[39m'\u001b[39m)\n\u001b[1;32m     <a href='vscode-notebook-cell:/Users/danieltrugman/Documents/Education/NLP/Repository/bart-cnn.ipynb#ch0000002?line=14'>15</a>\u001b[0m     bart_abstract \u001b[39m=\u001b[39m summarize(article)\n\u001b[1;32m     <a href='vscode-notebook-cell:/Users/danieltrugman/Documents/Education/NLP/Repository/bart-cnn.ipynb#ch0000002?line=15'>16</a>\u001b[0m     output\u001b[39m.\u001b[39mappend({\n\u001b[1;32m     <a href='vscode-notebook-cell:/Users/danieltrugman/Documents/Education/NLP/Repository/bart-cnn.ipynb#ch0000002?line=16'>17</a>\u001b[0m         \u001b[39m'\u001b[39m\u001b[39marticle\u001b[39m\u001b[39m'\u001b[39m: article,\n\u001b[1;32m     <a href='vscode-notebook-cell:/Users/danieltrugman/Documents/Education/NLP/Repository/bart-cnn.ipynb#ch0000002?line=17'>18</a>\u001b[0m         \u001b[39m'\u001b[39m\u001b[39mabstract\u001b[39m\u001b[39m'\u001b[39m: abstract,\n\u001b[0;32m---> <a href='vscode-notebook-cell:/Users/danieltrugman/Documents/Education/NLP/Repository/bart-cnn.ipynb#ch0000002?line=18'>19</a>\u001b[0m         \u001b[39m'\u001b[39m\u001b[39mbart\u001b[39m\u001b[39m'\u001b[39m: bart_abstract[\u001b[39m'\u001b[39;49m\u001b[39msummary_text\u001b[39;49m\u001b[39m'\u001b[39;49m]\n\u001b[1;32m     <a href='vscode-notebook-cell:/Users/danieltrugman/Documents/Education/NLP/Repository/bart-cnn.ipynb#ch0000002?line=19'>20</a>\u001b[0m     })\n\u001b[1;32m     <a href='vscode-notebook-cell:/Users/danieltrugman/Documents/Education/NLP/Repository/bart-cnn.ipynb#ch0000002?line=20'>21</a>\u001b[0m     \u001b[39mbreak\u001b[39;00m\n\u001b[1;32m     <a href='vscode-notebook-cell:/Users/danieltrugman/Documents/Education/NLP/Repository/bart-cnn.ipynb#ch0000002?line=22'>23</a>\u001b[0m \u001b[39mwith\u001b[39;00m \u001b[39mopen\u001b[39m(\u001b[39m'\u001b[39m\u001b[39mbart_output.json\u001b[39m\u001b[39m'\u001b[39m, \u001b[39m'\u001b[39m\u001b[39mw\u001b[39m\u001b[39m'\u001b[39m) \u001b[39mas\u001b[39;00m fout:\n",
      "\u001b[0;31mTypeError\u001b[0m: list indices must be integers or slices, not str"
     ]
    }
   ],
   "source": [
    "import json\n",
    "from generators import get_cnn_dm_both_generator\n",
    "\n",
    "output = []\n",
    "\n",
    "test_data_path = './dataset/chunked/test_000.bin'\n",
    "for article, abstract in get_cnn_dm_both_generator(test_data_path):\n",
    "    article_len = len(article)\n",
    "    if article_len > 5000:\n",
    "        print(f'Skipping text - len={article_len}!')\n",
    "        # Tokenizer cannot handle inputs longer than that\n",
    "        continue\n",
    "\n",
    "    print(f'Summarizing text - len={article_len}:')\n",
    "    bart_abstract = summarize(article)\n",
    "    output.append({\n",
    "        'article': article,\n",
    "        'abstract': abstract,\n",
    "        'bart': bart_abstract\n",
    "    })\n",
    "\n",
    "with open('bart_output.json', 'w') as fout:\n",
    "    json.dump(output, fout, indent=2)"
   ]
  }
 ],
 "metadata": {
  "kernelspec": {
   "display_name": "Python 3.10.4 ('env': venv)",
   "language": "python",
   "name": "python3"
  },
  "language_info": {
   "codemirror_mode": {
    "name": "ipython",
    "version": 3
   },
   "file_extension": ".py",
   "mimetype": "text/x-python",
   "name": "python",
   "nbconvert_exporter": "python",
   "pygments_lexer": "ipython3",
   "version": "3.10.4"
  },
  "orig_nbformat": 4,
  "vscode": {
   "interpreter": {
    "hash": "e4fe221a22f9802ae2a050549df6cbcd7264e25be7971b2914a087a6bea67c1c"
   }
  }
 },
 "nbformat": 4,
 "nbformat_minor": 2
}
